{
  "nbformat": 4,
  "nbformat_minor": 0,
  "metadata": {
    "colab": {
      "name": "pad0910-rnn-lstm.ipynb",
      "provenance": [],
      "collapsed_sections": []
    },
    "kernelspec": {
      "name": "python3",
      "display_name": "Python 3"
    },
    "language_info": {
      "name": "python"
    }
  },
  "cells": [
    {
      "cell_type": "code",
      "execution_count": 20,
      "metadata": {
        "id": "rprpwy3GXm3F"
      },
      "outputs": [],
      "source": [
        "import numpy as np\n",
        "import pandas as pd\n",
        "import matplotlib.pyplot as plt"
      ]
    },
    {
      "cell_type": "code",
      "source": [
        "stock_data = pd.read_csv(\"https://stooq.com/q/d/l/?s=cdr&d1=20200101&d2=20201231&i=d\")\n",
        "stock_data[\"TradeDate\"] = stock_data.index\n",
        "stock_data"
      ],
      "metadata": {
        "colab": {
          "base_uri": "https://localhost:8080/",
          "height": 424
        },
        "id": "oxLiUwENX1qf",
        "outputId": "5bc059aa-f835-4415-c3d1-c707ef1da098"
      },
      "execution_count": 21,
      "outputs": [
        {
          "output_type": "execute_result",
          "data": {
            "text/html": [
              "\n",
              "  <div id=\"df-dd6d4f00-03a6-413c-af53-11f0c62cb803\">\n",
              "    <div class=\"colab-df-container\">\n",
              "      <div>\n",
              "<style scoped>\n",
              "    .dataframe tbody tr th:only-of-type {\n",
              "        vertical-align: middle;\n",
              "    }\n",
              "\n",
              "    .dataframe tbody tr th {\n",
              "        vertical-align: top;\n",
              "    }\n",
              "\n",
              "    .dataframe thead th {\n",
              "        text-align: right;\n",
              "    }\n",
              "</style>\n",
              "<table border=\"1\" class=\"dataframe\">\n",
              "  <thead>\n",
              "    <tr style=\"text-align: right;\">\n",
              "      <th></th>\n",
              "      <th>Date</th>\n",
              "      <th>Open</th>\n",
              "      <th>High</th>\n",
              "      <th>Low</th>\n",
              "      <th>Close</th>\n",
              "      <th>Volume</th>\n",
              "      <th>TradeDate</th>\n",
              "    </tr>\n",
              "  </thead>\n",
              "  <tbody>\n",
              "    <tr>\n",
              "      <th>0</th>\n",
              "      <td>2020-01-02</td>\n",
              "      <td>274.10</td>\n",
              "      <td>278.77</td>\n",
              "      <td>273.13</td>\n",
              "      <td>278.77</td>\n",
              "      <td>172311</td>\n",
              "      <td>0</td>\n",
              "    </tr>\n",
              "    <tr>\n",
              "      <th>1</th>\n",
              "      <td>2020-01-03</td>\n",
              "      <td>278.96</td>\n",
              "      <td>281.69</td>\n",
              "      <td>273.23</td>\n",
              "      <td>277.99</td>\n",
              "      <td>251004</td>\n",
              "      <td>1</td>\n",
              "    </tr>\n",
              "    <tr>\n",
              "      <th>2</th>\n",
              "      <td>2020-01-07</td>\n",
              "      <td>279.06</td>\n",
              "      <td>280.33</td>\n",
              "      <td>274.98</td>\n",
              "      <td>275.85</td>\n",
              "      <td>218998</td>\n",
              "      <td>2</td>\n",
              "    </tr>\n",
              "    <tr>\n",
              "      <th>3</th>\n",
              "      <td>2020-01-08</td>\n",
              "      <td>275.56</td>\n",
              "      <td>275.85</td>\n",
              "      <td>269.54</td>\n",
              "      <td>273.23</td>\n",
              "      <td>230932</td>\n",
              "      <td>3</td>\n",
              "    </tr>\n",
              "    <tr>\n",
              "      <th>4</th>\n",
              "      <td>2020-01-09</td>\n",
              "      <td>276.05</td>\n",
              "      <td>280.52</td>\n",
              "      <td>275.08</td>\n",
              "      <td>280.52</td>\n",
              "      <td>200512</td>\n",
              "      <td>4</td>\n",
              "    </tr>\n",
              "    <tr>\n",
              "      <th>...</th>\n",
              "      <td>...</td>\n",
              "      <td>...</td>\n",
              "      <td>...</td>\n",
              "      <td>...</td>\n",
              "      <td>...</td>\n",
              "      <td>...</td>\n",
              "      <td>...</td>\n",
              "    </tr>\n",
              "    <tr>\n",
              "      <th>247</th>\n",
              "      <td>2020-12-22</td>\n",
              "      <td>255.25</td>\n",
              "      <td>268.18</td>\n",
              "      <td>254.66</td>\n",
              "      <td>260.20</td>\n",
              "      <td>1537522</td>\n",
              "      <td>247</td>\n",
              "    </tr>\n",
              "    <tr>\n",
              "      <th>248</th>\n",
              "      <td>2020-12-23</td>\n",
              "      <td>267.30</td>\n",
              "      <td>267.88</td>\n",
              "      <td>244.94</td>\n",
              "      <td>261.47</td>\n",
              "      <td>1490437</td>\n",
              "      <td>248</td>\n",
              "    </tr>\n",
              "    <tr>\n",
              "      <th>249</th>\n",
              "      <td>2020-12-28</td>\n",
              "      <td>257.58</td>\n",
              "      <td>266.33</td>\n",
              "      <td>249.90</td>\n",
              "      <td>266.33</td>\n",
              "      <td>1062237</td>\n",
              "      <td>249</td>\n",
              "    </tr>\n",
              "    <tr>\n",
              "      <th>250</th>\n",
              "      <td>2020-12-29</td>\n",
              "      <td>271.67</td>\n",
              "      <td>277.21</td>\n",
              "      <td>266.72</td>\n",
              "      <td>272.65</td>\n",
              "      <td>710269</td>\n",
              "      <td>250</td>\n",
              "    </tr>\n",
              "    <tr>\n",
              "      <th>251</th>\n",
              "      <td>2020-12-30</td>\n",
              "      <td>272.65</td>\n",
              "      <td>272.65</td>\n",
              "      <td>262.83</td>\n",
              "      <td>267.01</td>\n",
              "      <td>668864</td>\n",
              "      <td>251</td>\n",
              "    </tr>\n",
              "  </tbody>\n",
              "</table>\n",
              "<p>252 rows × 7 columns</p>\n",
              "</div>\n",
              "      <button class=\"colab-df-convert\" onclick=\"convertToInteractive('df-dd6d4f00-03a6-413c-af53-11f0c62cb803')\"\n",
              "              title=\"Convert this dataframe to an interactive table.\"\n",
              "              style=\"display:none;\">\n",
              "        \n",
              "  <svg xmlns=\"http://www.w3.org/2000/svg\" height=\"24px\"viewBox=\"0 0 24 24\"\n",
              "       width=\"24px\">\n",
              "    <path d=\"M0 0h24v24H0V0z\" fill=\"none\"/>\n",
              "    <path d=\"M18.56 5.44l.94 2.06.94-2.06 2.06-.94-2.06-.94-.94-2.06-.94 2.06-2.06.94zm-11 1L8.5 8.5l.94-2.06 2.06-.94-2.06-.94L8.5 2.5l-.94 2.06-2.06.94zm10 10l.94 2.06.94-2.06 2.06-.94-2.06-.94-.94-2.06-.94 2.06-2.06.94z\"/><path d=\"M17.41 7.96l-1.37-1.37c-.4-.4-.92-.59-1.43-.59-.52 0-1.04.2-1.43.59L10.3 9.45l-7.72 7.72c-.78.78-.78 2.05 0 2.83L4 21.41c.39.39.9.59 1.41.59.51 0 1.02-.2 1.41-.59l7.78-7.78 2.81-2.81c.8-.78.8-2.07 0-2.86zM5.41 20L4 18.59l7.72-7.72 1.47 1.35L5.41 20z\"/>\n",
              "  </svg>\n",
              "      </button>\n",
              "      \n",
              "  <style>\n",
              "    .colab-df-container {\n",
              "      display:flex;\n",
              "      flex-wrap:wrap;\n",
              "      gap: 12px;\n",
              "    }\n",
              "\n",
              "    .colab-df-convert {\n",
              "      background-color: #E8F0FE;\n",
              "      border: none;\n",
              "      border-radius: 50%;\n",
              "      cursor: pointer;\n",
              "      display: none;\n",
              "      fill: #1967D2;\n",
              "      height: 32px;\n",
              "      padding: 0 0 0 0;\n",
              "      width: 32px;\n",
              "    }\n",
              "\n",
              "    .colab-df-convert:hover {\n",
              "      background-color: #E2EBFA;\n",
              "      box-shadow: 0px 1px 2px rgba(60, 64, 67, 0.3), 0px 1px 3px 1px rgba(60, 64, 67, 0.15);\n",
              "      fill: #174EA6;\n",
              "    }\n",
              "\n",
              "    [theme=dark] .colab-df-convert {\n",
              "      background-color: #3B4455;\n",
              "      fill: #D2E3FC;\n",
              "    }\n",
              "\n",
              "    [theme=dark] .colab-df-convert:hover {\n",
              "      background-color: #434B5C;\n",
              "      box-shadow: 0px 1px 3px 1px rgba(0, 0, 0, 0.15);\n",
              "      filter: drop-shadow(0px 1px 2px rgba(0, 0, 0, 0.3));\n",
              "      fill: #FFFFFF;\n",
              "    }\n",
              "  </style>\n",
              "\n",
              "      <script>\n",
              "        const buttonEl =\n",
              "          document.querySelector('#df-dd6d4f00-03a6-413c-af53-11f0c62cb803 button.colab-df-convert');\n",
              "        buttonEl.style.display =\n",
              "          google.colab.kernel.accessAllowed ? 'block' : 'none';\n",
              "\n",
              "        async function convertToInteractive(key) {\n",
              "          const element = document.querySelector('#df-dd6d4f00-03a6-413c-af53-11f0c62cb803');\n",
              "          const dataTable =\n",
              "            await google.colab.kernel.invokeFunction('convertToInteractive',\n",
              "                                                     [key], {});\n",
              "          if (!dataTable) return;\n",
              "\n",
              "          const docLinkHtml = 'Like what you see? Visit the ' +\n",
              "            '<a target=\"_blank\" href=https://colab.research.google.com/notebooks/data_table.ipynb>data table notebook</a>'\n",
              "            + ' to learn more about interactive tables.';\n",
              "          element.innerHTML = '';\n",
              "          dataTable['output_type'] = 'display_data';\n",
              "          await google.colab.output.renderOutput(dataTable, element);\n",
              "          const docLink = document.createElement('div');\n",
              "          docLink.innerHTML = docLinkHtml;\n",
              "          element.appendChild(docLink);\n",
              "        }\n",
              "      </script>\n",
              "    </div>\n",
              "  </div>\n",
              "  "
            ],
            "text/plain": [
              "           Date    Open    High     Low   Close   Volume  TradeDate\n",
              "0    2020-01-02  274.10  278.77  273.13  278.77   172311          0\n",
              "1    2020-01-03  278.96  281.69  273.23  277.99   251004          1\n",
              "2    2020-01-07  279.06  280.33  274.98  275.85   218998          2\n",
              "3    2020-01-08  275.56  275.85  269.54  273.23   230932          3\n",
              "4    2020-01-09  276.05  280.52  275.08  280.52   200512          4\n",
              "..          ...     ...     ...     ...     ...      ...        ...\n",
              "247  2020-12-22  255.25  268.18  254.66  260.20  1537522        247\n",
              "248  2020-12-23  267.30  267.88  244.94  261.47  1490437        248\n",
              "249  2020-12-28  257.58  266.33  249.90  266.33  1062237        249\n",
              "250  2020-12-29  271.67  277.21  266.72  272.65   710269        250\n",
              "251  2020-12-30  272.65  272.65  262.83  267.01   668864        251\n",
              "\n",
              "[252 rows x 7 columns]"
            ]
          },
          "metadata": {},
          "execution_count": 21
        }
      ]
    },
    {
      "cell_type": "code",
      "source": [
        "stock_data.plot(x=\"TradeDate\", y=\"Close\", figsize=(15,8))"
      ],
      "metadata": {
        "colab": {
          "base_uri": "https://localhost:8080/",
          "height": 515
        },
        "id": "OfmD9DDXX8xD",
        "outputId": "dd4b6b58-ecd5-4a96-e6d5-8a75abc7cc48"
      },
      "execution_count": 22,
      "outputs": [
        {
          "output_type": "execute_result",
          "data": {
            "text/plain": [
              "<matplotlib.axes._subplots.AxesSubplot at 0x7f1112c51e10>"
            ]
          },
          "metadata": {},
          "execution_count": 22
        },
        {
          "output_type": "display_data",
          "data": {
            "image/png": "[encoded data removed]",
            "text/plain": [
              "<Figure size 1080x576 with 1 Axes>"
            ]
          },
          "metadata": {
            "needs_background": "light"
          }
        }
      ]
    },
    {
      "cell_type": "code",
      "source": [
        "from sklearn.preprocessing import MinMaxScaler"
      ],
      "metadata": {
        "id": "Ab7vvL-mYZKc"
      },
      "execution_count": 23,
      "outputs": []
    },
    {
      "cell_type": "code",
      "source": [
        "# ekstracja danych z kol. Close do numpy\n",
        "close_data = stock_data[[\"Close\"]].values\n",
        "\n",
        "# inicjalizacja scalera i jego wzorca\n",
        "sc = MinMaxScaler()\n",
        "data_scaler = sc.fit(close_data)\n",
        "\n",
        "X = data_scaler.transform(close_data)"
      ],
      "metadata": {
        "id": "_YUgXXbIYuWN"
      },
      "execution_count": 24,
      "outputs": []
    },
    {
      "cell_type": "code",
      "source": [
        "X_samples = []\n",
        "y_samples = []\n",
        "\n",
        "total_number = len(X)\n",
        "time_step = 10\n",
        "\n",
        "for i in range(time_step, total_number):\n",
        "  x_sample = X[i-time_step:i]\n",
        "  y_sample = X[i]\n",
        "\n",
        "  X_samples.append(x_sample)\n",
        "  y_samples.append(y_sample)"
      ],
      "metadata": {
        "id": "cPXNUXHAZDrV"
      },
      "execution_count": 25,
      "outputs": []
    },
    {
      "cell_type": "code",
      "source": [
        "# liczba próbek / timestep / liczba cech\n",
        "X_data = np.array(X_samples)\n",
        "X_data.shape"
      ],
      "metadata": {
        "colab": {
          "base_uri": "https://localhost:8080/"
        },
        "id": "jazKUA8caHqu",
        "outputId": "a0037d3c-743a-4ed1-87ef-4248253f6e27"
      },
      "execution_count": 26,
      "outputs": [
        {
          "output_type": "execute_result",
          "data": {
            "text/plain": [
              "(242, 10, 1)"
            ]
          },
          "metadata": {},
          "execution_count": 26
        }
      ]
    },
    {
      "cell_type": "code",
      "source": [
        "y_data = np.array(y_samples)\n",
        "y_data.shape"
      ],
      "metadata": {
        "colab": {
          "base_uri": "https://localhost:8080/"
        },
        "id": "4XPFrcT_cEf-",
        "outputId": "86cefbcb-358b-4ec2-ea47-41f2517c964d"
      },
      "execution_count": 27,
      "outputs": [
        {
          "output_type": "execute_result",
          "data": {
            "text/plain": [
              "(242, 1)"
            ]
          },
          "metadata": {},
          "execution_count": 27
        }
      ]
    },
    {
      "cell_type": "code",
      "source": [
        "# liczba rekordów testowych\n",
        "test_records = 30\n",
        "\n",
        "X_train = X_data[:-test_records]\n",
        "X_test = X_data[-test_records:]\n",
        "\n",
        "y_train = y_data[:-test_records]\n",
        "y_test = y_data[-test_records:]\n",
        "\n",
        "X_train.shape, y_train.shape"
      ],
      "metadata": {
        "colab": {
          "base_uri": "https://localhost:8080/"
        },
        "id": "9-hQzAxYck1S",
        "outputId": "01377194-b47d-4a8e-ab32-724135870784"
      },
      "execution_count": 28,
      "outputs": [
        {
          "output_type": "execute_result",
          "data": {
            "text/plain": [
              "((212, 10, 1), (212, 1))"
            ]
          },
          "metadata": {},
          "execution_count": 28
        }
      ]
    },
    {
      "cell_type": "code",
      "source": [
        "from tensorflow.keras.models import Sequential\n",
        "from tensorflow.keras.layers import Dense, LSTM"
      ],
      "metadata": {
        "id": "cc6Cl8cQdwBV"
      },
      "execution_count": 29,
      "outputs": []
    },
    {
      "cell_type": "code",
      "source": [
        "model = Sequential()\n",
        "model.add( LSTM(32, activation=\"relu\", input_shape=(time_step,1), return_sequences=True  ) )\n",
        "model.add( LSTM(16, activation=\"relu\",  return_sequences=True  ) )\n",
        "model.add( LSTM(8, activation=\"relu\",  return_sequences=False  ) )\n",
        "model.add( Dense(1) )\n",
        "model.compile(optimizer=\"adam\", loss=\"mse\", metrics=[\"mae\"])"
      ],
      "metadata": {
        "id": "nIBkgvL8d_7i"
      },
      "execution_count": 30,
      "outputs": []
    },
    {
      "cell_type": "code",
      "source": [
        "result = model.fit(X_train, y_train, epochs=150)"
      ],
      "metadata": {
        "colab": {
          "base_uri": "https://localhost:8080/"
        },
        "id": "EPZYfbkReEVd",
        "outputId": "95f3b511-71fe-42a2-fc1a-b4dfa9c6b576"
      },
      "execution_count": 31,
      "outputs": [
        {
          "output_type": "stream",
          "name": "stdout",
          "text": [
            "Epoch 1/150\n",
            "7/7 [==============================] - 3s 14ms/step - loss: 0.3599 - mae: 0.5639\n",
            "Epoch 2/150\n",
            "7/7 [==============================] - 0s 14ms/step - loss: 0.3062 - mae: 0.5163\n",
            "Epoch 3/150\n",
            "7/7 [==============================] - 0s 16ms/step - loss: 0.2440 - mae: 0.4547\n",
            "Epoch 4/150\n",
            "7/7 [==============================] - 0s 14ms/step - loss: 0.1677 - mae: 0.3671\n",
            "Epoch 5/150\n",
            "7/7 [==============================] - 0s 14ms/step - loss: 0.0798 - mae: 0.2450\n",
            "Epoch 6/150\n",
            "7/7 [==============================] - 0s 14ms/step - loss: 0.0246 - mae: 0.1235\n",
            "Epoch 7/150\n",
            "7/7 [==============================] - 0s 14ms/step - loss: 0.0304 - mae: 0.1356\n",
            "Epoch 8/150\n",
            "7/7 [==============================] - 0s 15ms/step - loss: 0.0192 - mae: 0.1103\n",
            "Epoch 9/150\n",
            "7/7 [==============================] - 0s 14ms/step - loss: 0.0198 - mae: 0.1179\n",
            "Epoch 10/150\n",
            "7/7 [==============================] - 0s 14ms/step - loss: 0.0164 - mae: 0.0983\n",
            "Epoch 11/150\n",
            "7/7 [==============================] - 0s 15ms/step - loss: 0.0157 - mae: 0.0932\n",
            "Epoch 12/150\n",
            "7/7 [==============================] - 0s 14ms/step - loss: 0.0132 - mae: 0.0878\n",
            "Epoch 13/150\n",
            "7/7 [==============================] - 0s 15ms/step - loss: 0.0113 - mae: 0.0831\n",
            "Epoch 14/150\n",
            "7/7 [==============================] - 0s 14ms/step - loss: 0.0098 - mae: 0.0747\n",
            "Epoch 15/150\n",
            "7/7 [==============================] - 0s 13ms/step - loss: 0.0088 - mae: 0.0732\n",
            "Epoch 16/150\n",
            "7/7 [==============================] - 0s 15ms/step - loss: 0.0078 - mae: 0.0702\n",
            "Epoch 17/150\n",
            "7/7 [==============================] - 0s 15ms/step - loss: 0.0076 - mae: 0.0700\n",
            "Epoch 18/150\n",
            "7/7 [==============================] - 0s 14ms/step - loss: 0.0074 - mae: 0.0698\n",
            "Epoch 19/150\n",
            "7/7 [==============================] - 0s 14ms/step - loss: 0.0072 - mae: 0.0685\n",
            "Epoch 20/150\n",
            "7/7 [==============================] - 0s 14ms/step - loss: 0.0071 - mae: 0.0671\n",
            "Epoch 21/150\n",
            "7/7 [==============================] - 0s 14ms/step - loss: 0.0071 - mae: 0.0668\n",
            "Epoch 22/150\n",
            "7/7 [==============================] - 0s 15ms/step - loss: 0.0070 - mae: 0.0672\n",
            "Epoch 23/150\n",
            "7/7 [==============================] - 0s 14ms/step - loss: 0.0069 - mae: 0.0665\n",
            "Epoch 24/150\n",
            "7/7 [==============================] - 0s 14ms/step - loss: 0.0068 - mae: 0.0661\n",
            "Epoch 25/150\n",
            "7/7 [==============================] - 0s 14ms/step - loss: 0.0067 - mae: 0.0658\n",
            "Epoch 26/150\n",
            "7/7 [==============================] - 0s 14ms/step - loss: 0.0068 - mae: 0.0658\n",
            "Epoch 27/150\n",
            "7/7 [==============================] - 0s 15ms/step - loss: 0.0067 - mae: 0.0655\n",
            "Epoch 28/150\n",
            "7/7 [==============================] - 0s 15ms/step - loss: 0.0066 - mae: 0.0650\n",
            "Epoch 29/150\n",
            "7/7 [==============================] - 0s 14ms/step - loss: 0.0066 - mae: 0.0650\n",
            "Epoch 30/150\n",
            "7/7 [==============================] - 0s 15ms/step - loss: 0.0066 - mae: 0.0647\n",
            "Epoch 31/150\n",
            "7/7 [==============================] - 0s 14ms/step - loss: 0.0066 - mae: 0.0647\n",
            "Epoch 32/150\n",
            "7/7 [==============================] - 0s 19ms/step - loss: 0.0068 - mae: 0.0652\n",
            "Epoch 33/150\n",
            "7/7 [==============================] - 0s 15ms/step - loss: 0.0065 - mae: 0.0641\n",
            "Epoch 34/150\n",
            "7/7 [==============================] - 0s 14ms/step - loss: 0.0065 - mae: 0.0632\n",
            "Epoch 35/150\n",
            "7/7 [==============================] - 0s 14ms/step - loss: 0.0063 - mae: 0.0637\n",
            "Epoch 36/150\n",
            "7/7 [==============================] - 0s 15ms/step - loss: 0.0063 - mae: 0.0637\n",
            "Epoch 37/150\n",
            "7/7 [==============================] - 0s 15ms/step - loss: 0.0064 - mae: 0.0643\n",
            "Epoch 38/150\n",
            "7/7 [==============================] - 0s 14ms/step - loss: 0.0062 - mae: 0.0623\n",
            "Epoch 39/150\n",
            "7/7 [==============================] - 0s 14ms/step - loss: 0.0060 - mae: 0.0618\n",
            "Epoch 40/150\n",
            "7/7 [==============================] - 0s 14ms/step - loss: 0.0062 - mae: 0.0628\n",
            "Epoch 41/150\n",
            "7/7 [==============================] - 0s 14ms/step - loss: 0.0061 - mae: 0.0613\n",
            "Epoch 42/150\n",
            "7/7 [==============================] - 0s 16ms/step - loss: 0.0062 - mae: 0.0619\n",
            "Epoch 43/150\n",
            "7/7 [==============================] - 0s 14ms/step - loss: 0.0060 - mae: 0.0606\n",
            "Epoch 44/150\n",
            "7/7 [==============================] - 0s 14ms/step - loss: 0.0058 - mae: 0.0600\n",
            "Epoch 45/150\n",
            "7/7 [==============================] - 0s 14ms/step - loss: 0.0058 - mae: 0.0596\n",
            "Epoch 46/150\n",
            "7/7 [==============================] - 0s 14ms/step - loss: 0.0058 - mae: 0.0606\n",
            "Epoch 47/150\n",
            "7/7 [==============================] - 0s 14ms/step - loss: 0.0057 - mae: 0.0584\n",
            "Epoch 48/150\n",
            "7/7 [==============================] - 0s 15ms/step - loss: 0.0056 - mae: 0.0578\n",
            "Epoch 49/150\n",
            "7/7 [==============================] - 0s 15ms/step - loss: 0.0056 - mae: 0.0584\n",
            "Epoch 50/150\n",
            "7/7 [==============================] - 0s 14ms/step - loss: 0.0055 - mae: 0.0564\n",
            "Epoch 51/150\n",
            "7/7 [==============================] - 0s 15ms/step - loss: 0.0053 - mae: 0.0559\n",
            "Epoch 52/150\n",
            "7/7 [==============================] - 0s 15ms/step - loss: 0.0052 - mae: 0.0553\n",
            "Epoch 53/150\n",
            "7/7 [==============================] - 0s 15ms/step - loss: 0.0052 - mae: 0.0545\n",
            "Epoch 54/150\n",
            "7/7 [==============================] - 0s 14ms/step - loss: 0.0051 - mae: 0.0549\n",
            "Epoch 55/150\n",
            "7/7 [==============================] - 0s 14ms/step - loss: 0.0049 - mae: 0.0527\n",
            "Epoch 56/150\n",
            "7/7 [==============================] - 0s 14ms/step - loss: 0.0047 - mae: 0.0516\n",
            "Epoch 57/150\n",
            "7/7 [==============================] - 0s 14ms/step - loss: 0.0049 - mae: 0.0527\n",
            "Epoch 58/150\n",
            "7/7 [==============================] - 0s 14ms/step - loss: 0.0047 - mae: 0.0521\n",
            "Epoch 59/150\n",
            "7/7 [==============================] - 0s 14ms/step - loss: 0.0050 - mae: 0.0534\n",
            "Epoch 60/150\n",
            "7/7 [==============================] - 0s 16ms/step - loss: 0.0048 - mae: 0.0518\n",
            "Epoch 61/150\n",
            "7/7 [==============================] - 0s 15ms/step - loss: 0.0044 - mae: 0.0506\n",
            "Epoch 62/150\n",
            "7/7 [==============================] - 0s 16ms/step - loss: 0.0043 - mae: 0.0477\n",
            "Epoch 63/150\n",
            "7/7 [==============================] - 0s 14ms/step - loss: 0.0044 - mae: 0.0497\n",
            "Epoch 64/150\n",
            "7/7 [==============================] - 0s 15ms/step - loss: 0.0042 - mae: 0.0482\n",
            "Epoch 65/150\n",
            "7/7 [==============================] - 0s 15ms/step - loss: 0.0042 - mae: 0.0482\n",
            "Epoch 66/150\n",
            "7/7 [==============================] - 0s 15ms/step - loss: 0.0044 - mae: 0.0494\n",
            "Epoch 67/150\n",
            "7/7 [==============================] - 0s 14ms/step - loss: 0.0044 - mae: 0.0492\n",
            "Epoch 68/150\n",
            "7/7 [==============================] - 0s 14ms/step - loss: 0.0040 - mae: 0.0470\n",
            "Epoch 69/150\n",
            "7/7 [==============================] - 0s 13ms/step - loss: 0.0042 - mae: 0.0482\n",
            "Epoch 70/150\n",
            "7/7 [==============================] - 0s 15ms/step - loss: 0.0040 - mae: 0.0476\n",
            "Epoch 71/150\n",
            "7/7 [==============================] - 0s 16ms/step - loss: 0.0040 - mae: 0.0466\n",
            "Epoch 72/150\n",
            "7/7 [==============================] - 0s 14ms/step - loss: 0.0040 - mae: 0.0461\n",
            "Epoch 73/150\n",
            "7/7 [==============================] - 0s 15ms/step - loss: 0.0041 - mae: 0.0463\n",
            "Epoch 74/150\n",
            "7/7 [==============================] - 0s 17ms/step - loss: 0.0038 - mae: 0.0458\n",
            "Epoch 75/150\n",
            "7/7 [==============================] - 0s 14ms/step - loss: 0.0038 - mae: 0.0458\n",
            "Epoch 76/150\n",
            "7/7 [==============================] - 0s 14ms/step - loss: 0.0038 - mae: 0.0463\n",
            "Epoch 77/150\n",
            "7/7 [==============================] - 0s 14ms/step - loss: 0.0041 - mae: 0.0482\n",
            "Epoch 78/150\n",
            "7/7 [==============================] - 0s 14ms/step - loss: 0.0038 - mae: 0.0457\n",
            "Epoch 79/150\n",
            "7/7 [==============================] - 0s 14ms/step - loss: 0.0037 - mae: 0.0448\n",
            "Epoch 80/150\n",
            "7/7 [==============================] - 0s 16ms/step - loss: 0.0039 - mae: 0.0464\n",
            "Epoch 81/150\n",
            "7/7 [==============================] - 0s 14ms/step - loss: 0.0038 - mae: 0.0461\n",
            "Epoch 82/150\n",
            "7/7 [==============================] - 0s 14ms/step - loss: 0.0041 - mae: 0.0491\n",
            "Epoch 83/150\n",
            "7/7 [==============================] - 0s 14ms/step - loss: 0.0038 - mae: 0.0462\n",
            "Epoch 84/150\n",
            "7/7 [==============================] - 0s 15ms/step - loss: 0.0037 - mae: 0.0450\n",
            "Epoch 85/150\n",
            "7/7 [==============================] - 0s 15ms/step - loss: 0.0035 - mae: 0.0442\n",
            "Epoch 86/150\n",
            "7/7 [==============================] - 0s 13ms/step - loss: 0.0035 - mae: 0.0438\n",
            "Epoch 87/150\n",
            "7/7 [==============================] - 0s 14ms/step - loss: 0.0036 - mae: 0.0443\n",
            "Epoch 88/150\n",
            "7/7 [==============================] - 0s 14ms/step - loss: 0.0040 - mae: 0.0484\n",
            "Epoch 89/150\n",
            "7/7 [==============================] - 0s 14ms/step - loss: 0.0036 - mae: 0.0450\n",
            "Epoch 90/150\n",
            "7/7 [==============================] - 0s 15ms/step - loss: 0.0035 - mae: 0.0440\n",
            "Epoch 91/150\n",
            "7/7 [==============================] - 0s 14ms/step - loss: 0.0035 - mae: 0.0437\n",
            "Epoch 92/150\n",
            "7/7 [==============================] - 0s 14ms/step - loss: 0.0035 - mae: 0.0438\n",
            "Epoch 93/150\n",
            "7/7 [==============================] - 0s 15ms/step - loss: 0.0035 - mae: 0.0439\n",
            "Epoch 94/150\n",
            "7/7 [==============================] - 0s 14ms/step - loss: 0.0036 - mae: 0.0454\n",
            "Epoch 95/150\n",
            "7/7 [==============================] - 0s 14ms/step - loss: 0.0034 - mae: 0.0433\n",
            "Epoch 96/150\n",
            "7/7 [==============================] - 0s 17ms/step - loss: 0.0034 - mae: 0.0431\n",
            "Epoch 97/150\n",
            "7/7 [==============================] - 0s 13ms/step - loss: 0.0035 - mae: 0.0439\n",
            "Epoch 98/150\n",
            "7/7 [==============================] - 0s 14ms/step - loss: 0.0034 - mae: 0.0430\n",
            "Epoch 99/150\n",
            "7/7 [==============================] - 0s 15ms/step - loss: 0.0033 - mae: 0.0421\n",
            "Epoch 100/150\n",
            "7/7 [==============================] - 0s 14ms/step - loss: 0.0034 - mae: 0.0434\n",
            "Epoch 101/150\n",
            "7/7 [==============================] - 0s 14ms/step - loss: 0.0033 - mae: 0.0428\n",
            "Epoch 102/150\n",
            "7/7 [==============================] - 0s 14ms/step - loss: 0.0033 - mae: 0.0423\n",
            "Epoch 103/150\n",
            "7/7 [==============================] - 0s 14ms/step - loss: 0.0033 - mae: 0.0424\n",
            "Epoch 104/150\n",
            "7/7 [==============================] - 0s 14ms/step - loss: 0.0033 - mae: 0.0426\n",
            "Epoch 105/150\n",
            "7/7 [==============================] - 0s 14ms/step - loss: 0.0035 - mae: 0.0430\n",
            "Epoch 106/150\n",
            "7/7 [==============================] - 0s 14ms/step - loss: 0.0036 - mae: 0.0458\n",
            "Epoch 107/150\n",
            "7/7 [==============================] - 0s 14ms/step - loss: 0.0038 - mae: 0.0444\n",
            "Epoch 108/150\n",
            "7/7 [==============================] - 0s 14ms/step - loss: 0.0035 - mae: 0.0444\n",
            "Epoch 109/150\n",
            "7/7 [==============================] - 0s 16ms/step - loss: 0.0033 - mae: 0.0433\n",
            "Epoch 110/150\n",
            "7/7 [==============================] - 0s 15ms/step - loss: 0.0033 - mae: 0.0425\n",
            "Epoch 111/150\n",
            "7/7 [==============================] - 0s 14ms/step - loss: 0.0033 - mae: 0.0427\n",
            "Epoch 112/150\n",
            "7/7 [==============================] - 0s 15ms/step - loss: 0.0033 - mae: 0.0428\n",
            "Epoch 113/150\n",
            "7/7 [==============================] - 0s 15ms/step - loss: 0.0034 - mae: 0.0432\n",
            "Epoch 114/150\n",
            "7/7 [==============================] - 0s 15ms/step - loss: 0.0033 - mae: 0.0431\n",
            "Epoch 115/150\n",
            "7/7 [==============================] - 0s 14ms/step - loss: 0.0033 - mae: 0.0426\n",
            "Epoch 116/150\n",
            "7/7 [==============================] - 0s 14ms/step - loss: 0.0032 - mae: 0.0420\n",
            "Epoch 117/150\n",
            "7/7 [==============================] - 0s 15ms/step - loss: 0.0033 - mae: 0.0432\n",
            "Epoch 118/150\n",
            "7/7 [==============================] - 0s 16ms/step - loss: 0.0033 - mae: 0.0430\n",
            "Epoch 119/150\n",
            "7/7 [==============================] - 0s 14ms/step - loss: 0.0032 - mae: 0.0420\n",
            "Epoch 120/150\n",
            "7/7 [==============================] - 0s 14ms/step - loss: 0.0031 - mae: 0.0416\n",
            "Epoch 121/150\n",
            "7/7 [==============================] - 0s 15ms/step - loss: 0.0032 - mae: 0.0416\n",
            "Epoch 122/150\n",
            "7/7 [==============================] - 0s 15ms/step - loss: 0.0032 - mae: 0.0423\n",
            "Epoch 123/150\n",
            "7/7 [==============================] - 0s 14ms/step - loss: 0.0032 - mae: 0.0422\n",
            "Epoch 124/150\n",
            "7/7 [==============================] - 0s 15ms/step - loss: 0.0031 - mae: 0.0417\n",
            "Epoch 125/150\n",
            "7/7 [==============================] - 0s 14ms/step - loss: 0.0032 - mae: 0.0415\n",
            "Epoch 126/150\n",
            "7/7 [==============================] - 0s 15ms/step - loss: 0.0031 - mae: 0.0416\n",
            "Epoch 127/150\n",
            "7/7 [==============================] - 0s 15ms/step - loss: 0.0031 - mae: 0.0413\n",
            "Epoch 128/150\n",
            "7/7 [==============================] - 0s 14ms/step - loss: 0.0031 - mae: 0.0414\n",
            "Epoch 129/150\n",
            "7/7 [==============================] - 0s 16ms/step - loss: 0.0031 - mae: 0.0413\n",
            "Epoch 130/150\n",
            "7/7 [==============================] - 0s 15ms/step - loss: 0.0031 - mae: 0.0406\n",
            "Epoch 131/150\n",
            "7/7 [==============================] - 0s 14ms/step - loss: 0.0031 - mae: 0.0413\n",
            "Epoch 132/150\n",
            "7/7 [==============================] - 0s 15ms/step - loss: 0.0032 - mae: 0.0422\n",
            "Epoch 133/150\n",
            "7/7 [==============================] - 0s 14ms/step - loss: 0.0031 - mae: 0.0412\n",
            "Epoch 134/150\n",
            "7/7 [==============================] - 0s 15ms/step - loss: 0.0030 - mae: 0.0407\n",
            "Epoch 135/150\n",
            "7/7 [==============================] - 0s 14ms/step - loss: 0.0031 - mae: 0.0420\n",
            "Epoch 136/150\n",
            "7/7 [==============================] - 0s 14ms/step - loss: 0.0032 - mae: 0.0427\n",
            "Epoch 137/150\n",
            "7/7 [==============================] - 0s 17ms/step - loss: 0.0032 - mae: 0.0422\n",
            "Epoch 138/150\n",
            "7/7 [==============================] - 0s 15ms/step - loss: 0.0031 - mae: 0.0420\n",
            "Epoch 139/150\n",
            "7/7 [==============================] - 0s 15ms/step - loss: 0.0030 - mae: 0.0399\n",
            "Epoch 140/150\n",
            "7/7 [==============================] - 0s 14ms/step - loss: 0.0032 - mae: 0.0413\n",
            "Epoch 141/150\n",
            "7/7 [==============================] - 0s 15ms/step - loss: 0.0032 - mae: 0.0425\n",
            "Epoch 142/150\n",
            "7/7 [==============================] - 0s 14ms/step - loss: 0.0035 - mae: 0.0455\n",
            "Epoch 143/150\n",
            "7/7 [==============================] - 0s 14ms/step - loss: 0.0033 - mae: 0.0433\n",
            "Epoch 144/150\n",
            "7/7 [==============================] - 0s 15ms/step - loss: 0.0032 - mae: 0.0426\n",
            "Epoch 145/150\n",
            "7/7 [==============================] - 0s 14ms/step - loss: 0.0029 - mae: 0.0400\n",
            "Epoch 146/150\n",
            "7/7 [==============================] - 0s 16ms/step - loss: 0.0030 - mae: 0.0417\n",
            "Epoch 147/150\n",
            "7/7 [==============================] - 0s 15ms/step - loss: 0.0030 - mae: 0.0405\n",
            "Epoch 148/150\n",
            "7/7 [==============================] - 0s 14ms/step - loss: 0.0029 - mae: 0.0404\n",
            "Epoch 149/150\n",
            "7/7 [==============================] - 0s 15ms/step - loss: 0.0031 - mae: 0.0427\n",
            "Epoch 150/150\n",
            "7/7 [==============================] - 0s 14ms/step - loss: 0.0030 - mae: 0.0405\n"
          ]
        }
      ]
    },
    {
      "cell_type": "code",
      "source": [
        "model.evaluate(X_test, y_test)"
      ],
      "metadata": {
        "colab": {
          "base_uri": "https://localhost:8080/"
        },
        "id": "ta82-QpqgBzr",
        "outputId": "433a1961-a20b-4777-cb5a-4bafaaa6918c"
      },
      "execution_count": 32,
      "outputs": [
        {
          "output_type": "stream",
          "name": "stdout",
          "text": [
            "1/1 [==============================] - 0s 491ms/step - loss: 0.0114 - mae: 0.0813\n"
          ]
        },
        {
          "output_type": "execute_result",
          "data": {
            "text/plain": [
              "[0.011370821855962276, 0.081285759806633]"
            ]
          },
          "metadata": {},
          "execution_count": 32
        }
      ]
    },
    {
      "cell_type": "code",
      "source": [
        "y_test.shape"
      ],
      "metadata": {
        "colab": {
          "base_uri": "https://localhost:8080/"
        },
        "id": "eGEhUqNpgO3y",
        "outputId": "05e25738-f63b-40ca-817e-d07b478e09c0"
      },
      "execution_count": 33,
      "outputs": [
        {
          "output_type": "execute_result",
          "data": {
            "text/plain": [
              "(30, 1)"
            ]
          },
          "metadata": {},
          "execution_count": 33
        }
      ]
    },
    {
      "cell_type": "code",
      "source": [
        "y_pred = model.predict(X_test)"
      ],
      "metadata": {
        "id": "Az0xVM6bg-SK"
      },
      "execution_count": 34,
      "outputs": []
    },
    {
      "cell_type": "code",
      "source": [
        "plt.plot( data_scaler.inverse_transform(y_pred))\n",
        "plt.plot( data_scaler.inverse_transform(y_test))\n",
        "plt.legend([\"PRED\",\"ORYG\"])\n",
        "plt.show()"
      ],
      "metadata": {
        "colab": {
          "base_uri": "https://localhost:8080/",
          "height": 265
        },
        "id": "TpfvvLgLhHW5",
        "outputId": "3f3cf9b2-29ef-46cf-ae42-b9c07486c4f6"
      },
      "execution_count": 35,
      "outputs": [
        {
          "output_type": "display_data",
          "data": {
            "image/png": "[encoded data removed]",
            "text/plain": [
              "<Figure size 432x288 with 1 Axes>"
            ]
          },
          "metadata": {
            "needs_background": "light"
          }
        }
      ]
    },
    {
      "cell_type": "code",
      "source": [
        "# predykcja na \"dzień po\"\n",
        "x = close_data[-time_step:] # pobierz N probek wstecz (na podstawie time_step)\n",
        "x = data_scaler.transform(x) # normalizacja\n",
        "x = x.reshape(1, time_step, 1)\n",
        "data_scaler.inverse_transform(model.predict(x)) # predykcja i denormalizacja"
      ],
      "metadata": {
        "colab": {
          "base_uri": "https://localhost:8080/"
        },
        "id": "82PQdM2bhPzs",
        "outputId": "26fb185e-8bd4-4b73-9c97-844f55a62651"
      },
      "execution_count": 36,
      "outputs": [
        {
          "output_type": "execute_result",
          "data": {
            "text/plain": [
              "array([[264.4914]], dtype=float32)"
            ]
          },
          "metadata": {},
          "execution_count": 36
        }
      ]
    },
    {
      "cell_type": "code",
      "source": [
        ""
      ],
      "metadata": {
        "id": "HpNXS-_1j59p"
      },
      "execution_count": 36,
      "outputs": []
    }
  ]
}